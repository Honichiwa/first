{
 "cells": [
  {
   "cell_type": "code",
   "execution_count": null,
   "metadata": {},
   "outputs": [],
   "source": [
    "squares = [x**2 for x in range(1, 11)]\n",
    "print(squares)"
   ]
  },
  {
   "cell_type": "code",
   "execution_count": null,
   "metadata": {},
   "outputs": [],
   "source": [
    "finishers = ['sam', 'bob', 'ada', 'bea']\n",
    "first_two = finishers[:2]\n",
    "print(first_two)"
   ]
  },
  {
   "cell_type": "code",
   "execution_count": null,
   "metadata": {},
   "outputs": [],
   "source": [
    "# zodyn = {'agurkas': 'in progress', 'lupti bulves': 'in progress', 'morkos': 'completed'}\n",
    "\n",
    "# # Print the dictionary with enumerated indexes\n",
    "# for indeksas, reiksme in enumerate(zodyn):\n",
    "#     print(indeksas + 1, \".\", reiksme, zodyn[reiksme])\n",
    "\n",
    "# # Prompt the user to enter an index\n",
    "# user_input = input(\"Enter an index to retrieve the corresponding dictionary (or press Enter to quit): \")\n",
    "\n",
    "# # Keep asking the user for input until they press Enter\n",
    "# while user_input:\n",
    "#     # Convert the user input to an integer\n",
    "#     index = int(user_input)\n",
    "\n",
    "#     # Get the key at the specified index\n",
    "#     key = list(zodyn.keys())[index - 1]\n",
    "\n",
    "#     # Print the corresponding dictionary\n",
    "#     print(zodyn[key])\n",
    "\n",
    "#     # Prompt the user to enter another index\n",
    "#     user_input = input(\"Enter an index to retrieve the corresponding dictionary (or press Enter to quit): \")\n"
   ]
  },
  {
   "cell_type": "code",
   "execution_count": null,
   "metadata": {},
   "outputs": [],
   "source": [
    "to_do = {'as': 'done',\n",
    "         'tu': 'in progress',\n",
    "         'jis/ji': 'deleted'}\n",
    "# for indeksas, reiksme in enumerate(to_do):\n",
    "#     indeksas += 1\n",
    "#     zodyno_sarasas = [indeksas, \".\", reiksme, to_do[reiksme]]\n",
    "#     print(type(zodyno_sarasas), zodyno_sarasas)\n",
    "for indeksas, reiksme in enumerate(to_do):\n",
    "    indeksas += 1\n",
    "    print(indeksas, \".\", reiksme, to_do[reiksme])\n",
    "pasirinkimas_2_2 = input('ivesk')\n",
    "if pasirinkimas_2_2 == indeksas:\n",
    "    print(reiksme)\n",
    "else:\n",
    "    print(indeksas)"
   ]
  },
  {
   "cell_type": "code",
   "execution_count": null,
   "metadata": {},
   "outputs": [],
   "source": [
    "print(to_do)\n",
    "p_sk = int(input('iveskite skaiciu'))\n",
    "print(f'{list(to_do.keys())[p_sk]} {list(to_do.values())[p_sk]}')\n",
    "p_sk2 = int(input('ar norite istrinti - 1 ar pakeisti uzduoties statusa? - 2'))\n",
    "if p_sk2 == 1:\n",
    "    del to_do[list(to_do.keys())[p_sk]]\n",
    "elif p_sk2 == 2:\n",
    "    p_sk3 = int(input('pasirinkite uzduoties statusa - 1 done, 2 - in progress'))\n",
    "    if p_sk3 == 1:\n",
    "        to_do [list(to_do.keys())[p_sk]] = 'done'\n",
    "    if p_sk3 == 2:\n",
    "        to_do [list(to_do.keys())[p_sk]] = 'in progress'\n",
    "else:\n",
    "    print('neveik')\n",
    "\n"
   ]
  },
  {
   "cell_type": "code",
   "execution_count": null,
   "metadata": {},
   "outputs": [],
   "source": [
    "pasirinkimas_2_1 = input(1)\n",
    "print(int(list(to_do.keys()).index(list(to_do.keys())[int(pasirinkimas_2_1)])) + 1)\n",
    "\n"
   ]
  },
  {
   "cell_type": "code",
   "execution_count": 11,
   "metadata": {},
   "outputs": [
    {
     "name": "stdout",
     "output_type": "stream",
     "text": [
      "7\n",
      "range(0, 7)\n",
      "gra\n",
      "range(0, 6)\n"
     ]
    }
   ],
   "source": [
    "i = \"agurkas\"\n",
    "print(len(i))\n",
    "print(range(len(i)))\n",
    "b = \"\"\n",
    "for x in range(len(i)):\n",
    "    if x % 2 != 0:\n",
    "        b = b + i[x]\n",
    "print(b)\n",
    "print(range(6))"
   ]
  },
  {
   "cell_type": "code",
   "execution_count": 32,
   "metadata": {},
   "outputs": [
    {
     "name": "stdout",
     "output_type": "stream",
     "text": [
      "aaagaaagaguaaagaaagaguaguraaagaaagaguaaagaaagaguaguragurkaaagaaagaguaaagaaagaguaguraaagaaagaguaaagaaagaguaguragurkagurkaaaagaaagaguaaagaaagaguaguraaagaaagaguaaagaaagaguaguragurkaaagaaagaguaaagaaagaguaguraaagaaagaguaaagaaagaguaguragurkagurkaagurkas\n",
      "range(0, 7)\n",
      "7\n",
      "0\n",
      "1\n",
      "2\n",
      "3\n",
      "4\n",
      "5\n",
      "6\n"
     ]
    }
   ],
   "source": [
    "def string_splosion(str):\n",
    "  result = \"\"\n",
    "  for i in range(len(str)):\n",
    "    result += result + str[:i+1]\n",
    "  return result\n",
    "\n",
    "print(string_splosion('agurkas'))\n",
    "print(range(len('agurkas')))\n",
    "print(len('agurkas'))\n",
    "for g in range(7):\n",
    "    print( g)"
   ]
  }
 ],
 "metadata": {
  "kernelspec": {
   "display_name": ".venv",
   "language": "python",
   "name": "python3"
  },
  "language_info": {
   "codemirror_mode": {
    "name": "ipython",
    "version": 3
   },
   "file_extension": ".py",
   "mimetype": "text/x-python",
   "name": "python",
   "nbconvert_exporter": "python",
   "pygments_lexer": "ipython3",
   "version": "3.11.3"
  },
  "orig_nbformat": 4
 },
 "nbformat": 4,
 "nbformat_minor": 2
}
