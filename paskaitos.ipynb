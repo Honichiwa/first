{
 "cells": [
  {
   "attachments": {},
   "cell_type": "markdown",
   "metadata": {},
   "source": [
    "## Sarasai"
   ]
  },
  {
   "cell_type": "code",
   "execution_count": 15,
   "metadata": {},
   "outputs": [
    {
     "name": "stdout",
     "output_type": "stream",
     "text": [
      "[2, 6, 8]\n"
     ]
    }
   ],
   "source": [
    "skaiciai = [2, 6, 8]\n",
    "print(skaiciai)"
   ]
  },
  {
   "cell_type": "code",
   "execution_count": 16,
   "metadata": {},
   "outputs": [
    {
     "name": "stdout",
     "output_type": "stream",
     "text": [
      "[6, 8]\n"
     ]
    }
   ],
   "source": [
    "skaiciai.remove(2)\n",
    "print(skaiciai)\n"
   ]
  },
  {
   "cell_type": "code",
   "execution_count": 17,
   "metadata": {},
   "outputs": [
    {
     "name": "stdout",
     "output_type": "stream",
     "text": [
      "['pasta', 'chicken', 'avocado', 'beef', 'tomato']\n"
     ]
    }
   ],
   "source": [
    "# pirma uzduotis\n",
    "food_list = [\"pasta\",\n",
    " \"chicken\", \"avocado\", 'beef', 'tomato']\n",
    "print(food_list)"
   ]
  },
  {
   "cell_type": "code",
   "execution_count": 18,
   "metadata": {},
   "outputs": [
    {
     "name": "stdout",
     "output_type": "stream",
     "text": [
      "pasta\n",
      "avocado\n",
      "tomato\n"
     ]
    }
   ],
   "source": [
    "# antra uzduotis\n",
    "print(food_list[0])\n",
    "print(food_list[2])\n",
    "print(food_list[-1])"
   ]
  },
  {
   "cell_type": "code",
   "execution_count": 19,
   "metadata": {},
   "outputs": [
    {
     "name": "stdout",
     "output_type": "stream",
     "text": [
      "['pasta', 'chicken']\n",
      "['beef', 'tomato']\n",
      "['chicken', 'avocado', 'beef']\n",
      "['pasta', 'avocado', 'tomato']\n"
     ]
    }
   ],
   "source": [
    "# trecia uzduotis\n",
    "print(food_list[:2])\n",
    "print(food_list[-2:])\n",
    "print(food_list[1:4])\n",
    "print(food_list[::2])"
   ]
  },
  {
   "cell_type": "code",
   "execution_count": 20,
   "metadata": {},
   "outputs": [
    {
     "name": "stdout",
     "output_type": "stream",
     "text": [
      "['pasta', 'chicken', 'avocado', 'beef', 'tomato', 'paprika']\n",
      "['pasta', 'chicken', 'apple', 'avocado', 'beef', 'tomato', 'paprika']\n",
      "['pasta', 'candy', 'apple', 'avocado', 'beef', 'tomato', 'paprika']\n",
      "['candy', 'apple', 'avocado', 'beef', 'tomato', 'paprika']\n",
      "['candy', 'apple', 'beef', 'tomato', 'paprika']\n",
      "2\n",
      "['paprika', 'tomato', 'beef', 'apple', 'candy']\n"
     ]
    }
   ],
   "source": [
    "# ketvirta uzduotis\n",
    "food_list.append(\"paprika\")\n",
    "print(food_list)\n",
    "food_list.insert(2,\"apple\")\n",
    "print(food_list)\n",
    "food_list[1] = 'candy'\n",
    "print(food_list)\n",
    "food_list.pop(0)\n",
    "print(food_list)\n",
    "food_list.pop(2)\n",
    "print(food_list)\n",
    "print(food_list.index('beef'))\n",
    "food_list.reverse()\n",
    "print(food_list)"
   ]
  },
  {
   "cell_type": "code",
   "execution_count": 21,
   "metadata": {},
   "outputs": [
    {
     "name": "stdout",
     "output_type": "stream",
     "text": [
      "5\n"
     ]
    }
   ],
   "source": [
    "# 5 uzduotis\n",
    "print(len(food_list))"
   ]
  },
  {
   "cell_type": "code",
   "execution_count": 22,
   "metadata": {},
   "outputs": [
    {
     "name": "stdout",
     "output_type": "stream",
     "text": [
      "False\n",
      "True\n",
      "True\n",
      "False\n"
     ]
    }
   ],
   "source": [
    "print('chicken' in food_list)\n",
    "print('beef' in food_list)\n",
    "print('tomato' in food_list)\n",
    "print('chips' in food_list)"
   ]
  },
  {
   "attachments": {},
   "cell_type": "markdown",
   "metadata": {},
   "source": [
    "## Zodynai"
   ]
  },
  {
   "cell_type": "code",
   "execution_count": 23,
   "metadata": {},
   "outputs": [
    {
     "name": "stdout",
     "output_type": "stream",
     "text": [
      "{'sirijus': '1', 'pinkis': '12', 'Rikis': '5'}\n"
     ]
    }
   ],
   "source": [
    "# pirma uzduotis\n",
    "zodynas = {'sirijus': '1', 'pinkis': '12', 'Rikis':'5'}\n",
    "print(zodynas)"
   ]
  },
  {
   "cell_type": "code",
   "execution_count": 24,
   "metadata": {},
   "outputs": [
    {
     "name": "stdout",
     "output_type": "stream",
     "text": [
      "12\n"
     ]
    }
   ],
   "source": [
    "# antra uzduotis\n",
    "print(zodynas['pinkis'])"
   ]
  },
  {
   "cell_type": "code",
   "execution_count": 25,
   "metadata": {},
   "outputs": [],
   "source": [
    "# trecia uzduotis\n",
    "zodynas['kikis'] = 4"
   ]
  },
  {
   "cell_type": "code",
   "execution_count": 26,
   "metadata": {},
   "outputs": [
    {
     "name": "stdout",
     "output_type": "stream",
     "text": [
      "{'sirijus': 0, 'pinkis': '12', 'Rikis': '5', 'kikis': 4}\n"
     ]
    }
   ],
   "source": [
    "# ketvirta uzduotis\n",
    "zodynas['sirijus'] = 0\n",
    "print(zodynas)"
   ]
  },
  {
   "cell_type": "code",
   "execution_count": 27,
   "metadata": {},
   "outputs": [
    {
     "name": "stdout",
     "output_type": "stream",
     "text": [
      "{'sirijus': 0, 'pinkis': '12', 'kikis': 4}\n"
     ]
    }
   ],
   "source": [
    "# penkta uzduotis\n",
    "del zodynas['Rikis']\n",
    "print(zodynas)"
   ]
  },
  {
   "cell_type": "code",
   "execution_count": 28,
   "metadata": {},
   "outputs": [
    {
     "name": "stdout",
     "output_type": "stream",
     "text": [
      "dict_keys(['sirijus', 'pinkis', 'kikis'])\n"
     ]
    }
   ],
   "source": [
    "# sesta uzduotis\n",
    "print(zodynas.keys())"
   ]
  },
  {
   "cell_type": "code",
   "execution_count": 29,
   "metadata": {},
   "outputs": [
    {
     "name": "stdout",
     "output_type": "stream",
     "text": [
      "dict_values([0, '12', 4])\n"
     ]
    }
   ],
   "source": [
    "print(zodynas.values())"
   ]
  },
  {
   "cell_type": "code",
   "execution_count": 30,
   "metadata": {},
   "outputs": [
    {
     "name": "stdout",
     "output_type": "stream",
     "text": [
      "[('sirijus', 0), ('pinkis', '12'), ('kikis', 4)]\n"
     ]
    }
   ],
   "source": [
    "print(list(zodynas.items()))"
   ]
  },
  {
   "cell_type": "code",
   "execution_count": 31,
   "metadata": {},
   "outputs": [
    {
     "name": "stdout",
     "output_type": "stream",
     "text": [
      "12\n"
     ]
    }
   ],
   "source": [
    "print(zodynas.get('pinkis'))"
   ]
  },
  {
   "cell_type": "code",
   "execution_count": 32,
   "metadata": {},
   "outputs": [
    {
     "name": "stdout",
     "output_type": "stream",
     "text": [
      "{'tu': 'you', 'as': 'me', 'jis': 'him'}\n"
     ]
    }
   ],
   "source": [
    "zodynas_del = {'tu': 'you', 'as': 'me', 'jis':'him'}\n",
    "print(zodynas_del)"
   ]
  },
  {
   "cell_type": "code",
   "execution_count": 33,
   "metadata": {},
   "outputs": [
    {
     "name": "stdout",
     "output_type": "stream",
     "text": [
      "{}\n"
     ]
    }
   ],
   "source": [
    "zodynas_del.clear()\n",
    "print(zodynas_del)"
   ]
  },
  {
   "attachments": {},
   "cell_type": "markdown",
   "metadata": {},
   "source": [
    "## ciklai\n"
   ]
  },
  {
   "cell_type": "code",
   "execution_count": 34,
   "metadata": {},
   "outputs": [
    {
     "name": "stdout",
     "output_type": "stream",
     "text": [
      "hot\n",
      "cold\n",
      "warm\n",
      "chilly\n",
      "super hot\n"
     ]
    }
   ],
   "source": [
    "# pirma uzduotis\n",
    "list_of_stuff = ['hot', 'cold', 'warm', 'chilly', 'super hot']\n",
    "for x in list_of_stuff:\n",
    "    print(x)"
   ]
  },
  {
   "cell_type": "code",
   "execution_count": 37,
   "metadata": {},
   "outputs": [
    {
     "name": "stdout",
     "output_type": "stream",
     "text": [
      "1 pagaliau , simboliu kiekis:  8\n",
      "2 kazka , simboliu kiekis:  5\n",
      "3 pradedu , simboliu kiekis:  7\n",
      "4 suprasti , simboliu kiekis:  8\n",
      "5 tikriausiai , simboliu kiekis:  11\n",
      "6 nezinau , simboliu kiekis:  7\n",
      "7 hmm , simboliu kiekis:  3\n",
      "8 hmm? , simboliu kiekis:  4\n",
      "Number of words:  8\n"
     ]
    }
   ],
   "source": [
    "# antra uzduotis\n",
    "words = []\n",
    "x = int(input('iveskite zodziu skaiciu: '))\n",
    "for word in range(x):\n",
    "   words.append(input('enter word: '))\n",
    "for number, sep_word in enumerate(words):\n",
    "   print(number + 1, sep_word, \", simboliu kiekis: \", len(sep_word))\n",
    "print(\"Number of words: \", len(words))"
   ]
  },
  {
   "cell_type": "code",
   "execution_count": 43,
   "metadata": {},
   "outputs": [
    {
     "name": "stdout",
     "output_type": "stream",
     "text": [
      "Keliamieji metai\n"
     ]
    }
   ],
   "source": [
    "# trecia uzduotis\n",
    "years = int(input('enter years: '))\n",
    "if (years % 400 == 0) or (years % 100 != 0 and years % 4 == 0):\n",
    "    print('Keliamieji metai')\n",
    "else:\n",
    "    print('Nekeliamieji metai')"
   ]
  },
  {
   "cell_type": "code",
   "execution_count": 57,
   "metadata": {},
   "outputs": [
    {
     "name": "stdout",
     "output_type": "stream",
     "text": [
      "2000\n",
      "2004\n",
      "2008\n",
      "2012\n",
      "2016\n",
      "2020\n",
      "2024\n",
      "2028\n",
      "2032\n",
      "2036\n",
      "2040\n",
      "2044\n",
      "2048\n",
      "2052\n",
      "2056\n",
      "2060\n",
      "2064\n",
      "2068\n",
      "2072\n",
      "2076\n",
      "2080\n",
      "2084\n",
      "2088\n",
      "2092\n",
      "2096\n"
     ]
    }
   ],
   "source": [
    "# ketvirta uzduotis\n",
    "list_of_years = range(2000, 2100)\n",
    "for x in list_of_years:\n",
    "    if x % 400 == 0:\n",
    "        print(x)\n",
    "    elif x % 100 == 0:\n",
    "        continue\n",
    "    elif  x % 4 == 0:\n",
    "        print(x)\n",
    "    else:\n",
    "        continue"
   ]
  },
  {
   "attachments": {},
   "cell_type": "markdown",
   "metadata": {},
   "source": [
    "## while ciklas"
   ]
  },
  {
   "cell_type": "code",
   "execution_count": 66,
   "metadata": {},
   "outputs": [
    {
     "name": "stdout",
     "output_type": "stream",
     "text": [
      "10\n",
      "9\n",
      "8\n",
      "7\n",
      "6\n",
      "5\n",
      "4\n",
      "3\n",
      "2\n",
      "1\n",
      "0\n",
      "-1\n"
     ]
    }
   ],
   "source": [
    "# pirma uzduotis\n",
    "number = 10\n",
    "while number >= -1:\n",
    "    print(number)\n",
    "    number -= 1\n",
    "    "
   ]
  },
  {
   "cell_type": "code",
   "execution_count": 73,
   "metadata": {},
   "outputs": [
    {
     "name": "stdout",
     "output_type": "stream",
     "text": [
      "4\n",
      "3\n",
      "2\n",
      "1\n",
      "cycle continues cuz number = 0\n",
      "-1\n",
      "-2\n",
      "-3\n",
      "-4\n",
      "stopping cycle cuz skaicius = -5\n"
     ]
    }
   ],
   "source": [
    "# antra uzduotis\n",
    "# antra uzduotis\n",
    "number = 5\n",
    "while number >= -10:\n",
    "    number -= 1\n",
    "    if number == -5:\n",
    "        print('stopping cycle cuz skaicius = -5')\n",
    "        break\n",
    "    elif number == 0:\n",
    "        print('cycle continues cuz number = 0')\n",
    "        continue\n",
    "    print(number)"
   ]
  },
  {
   "cell_type": "code",
   "execution_count": 80,
   "metadata": {},
   "outputs": [
    {
     "name": "stdout",
     "output_type": "stream",
     "text": [
      "8\n",
      "70\n",
      "50\n",
      "6\n",
      "-2\n",
      "134\n"
     ]
    }
   ],
   "source": [
    "# trecia uzduotis\n",
    "suma = 0\n",
    "while True:\n",
    "    y = int(input('iveskite skaiciu: '))\n",
    "    print(y)\n",
    "    if y < 0:\n",
    "        break\n",
    "    suma += y\n",
    "\n",
    "print(suma)\n",
    "    \n",
    "\n",
    "   \n",
    "    "
   ]
  },
  {
   "attachments": {},
   "cell_type": "markdown",
   "metadata": {},
   "source": [
    "## tuples\n"
   ]
  },
  {
   "cell_type": "code",
   "execution_count": 103,
   "metadata": {},
   "outputs": [
    {
     "name": "stdout",
     "output_type": "stream",
     "text": [
      "('ac/dc', 'ofam', 'kodaline')\n"
     ]
    }
   ],
   "source": [
    "# pirma uzduotis\n",
    "music_grps = ('ac/dc', 'ofam', 'kodaline')\n",
    "print(music_grps)"
   ]
  },
  {
   "cell_type": "code",
   "execution_count": 102,
   "metadata": {},
   "outputs": [
    {
     "name": "stdout",
     "output_type": "stream",
     "text": [
      "('linkingpark', 'rbks', 'rhcp', 'ofam', 'ac/dc', 'ofam', 'kodaline')\n"
     ]
    }
   ],
   "source": [
    "# antra uzduotis\n",
    "fav_grps = ('linkingpark', 'rbks', 'rhcp', 'ofam')\n",
    "all_grps = fav_grps + music_grps\n",
    "print(all_grps)"
   ]
  },
  {
   "cell_type": "code",
   "execution_count": 104,
   "metadata": {},
   "outputs": [
    {
     "name": "stdout",
     "output_type": "stream",
     "text": [
      "linkingpark\n",
      "rhcp\n",
      "kodaline\n"
     ]
    }
   ],
   "source": [
    "# trecia uzduotis\n",
    "print(all_grps[0])\n",
    "print(all_grps[2])\n",
    "print(all_grps[-1])"
   ]
  },
  {
   "cell_type": "code",
   "execution_count": 105,
   "metadata": {},
   "outputs": [
    {
     "name": "stdout",
     "output_type": "stream",
     "text": [
      "('linkingpark', 'rhcp', 'ac/dc', 'kodaline')\n"
     ]
    }
   ],
   "source": [
    "# ketvirta uzduotis\n",
    "print(all_grps[::2])"
   ]
  },
  {
   "cell_type": "code",
   "execution_count": 109,
   "metadata": {},
   "outputs": [
    {
     "name": "stdout",
     "output_type": "stream",
     "text": [
      "2\n",
      "4\n",
      "True\n"
     ]
    }
   ],
   "source": [
    "# penkta uzduotis\n",
    "print(all_grps.count('ofam'))\n",
    "print(all_grps.index('ac/dc'))\n",
    "print('rhcp' in all_grps)"
   ]
  },
  {
   "cell_type": "code",
   "execution_count": null,
   "metadata": {},
   "outputs": [],
   "source": [
    "# bonus\n",
    "for a in all_grps:\n",
    "    if\n"
   ]
  },
  {
   "attachments": {},
   "cell_type": "markdown",
   "metadata": {},
   "source": [
    "## aibes / set\n"
   ]
  },
  {
   "cell_type": "code",
   "execution_count": 121,
   "metadata": {},
   "outputs": [
    {
     "name": "stdout",
     "output_type": "stream",
     "text": [
      "{1, 2, 3, 4, 8, 11, 13, 15}\n"
     ]
    }
   ],
   "source": [
    "# pirma uzduotis\n",
    "aibe_skaiciu = {1, 2, 3, 4, 8, 15, 13}\n",
    "aibe_skaiciu.add(11)\n",
    "print(aibe_skaiciu)"
   ]
  },
  {
   "cell_type": "code",
   "execution_count": 122,
   "metadata": {},
   "outputs": [
    {
     "name": "stdout",
     "output_type": "stream",
     "text": [
      "{1, 4, 5, 11, 13, 15, 88}\n"
     ]
    }
   ],
   "source": [
    "# antra uzduotis\n",
    "nauja_aibe = {11, 15, 13 ,5, 80, 1 , 4, 88}\n",
    "nauja_aibe.discard(80)\n",
    "print(nauja_aibe)"
   ]
  },
  {
   "cell_type": "code",
   "execution_count": 123,
   "metadata": {},
   "outputs": [
    {
     "name": "stdout",
     "output_type": "stream",
     "text": [
      "{1, 4, 11, 13, 15}\n"
     ]
    }
   ],
   "source": [
    "# trecia uzduotis\n",
    "bendra_aibe = nauja_aibe.intersection(aibe_skaiciu)\n",
    "print(bendra_aibe)"
   ]
  },
  {
   "cell_type": "code",
   "execution_count": 124,
   "metadata": {},
   "outputs": [
    {
     "name": "stdout",
     "output_type": "stream",
     "text": [
      "{8, 2, 3}\n"
     ]
    }
   ],
   "source": [
    "# ketvirta uzduotis\n",
    "skirtumu_aibe = aibe_skaiciu.difference(nauja_aibe)\n",
    "print(skirtumu_aibe)"
   ]
  },
  {
   "cell_type": "code",
   "execution_count": 146,
   "metadata": {},
   "outputs": [
    {
     "name": "stdout",
     "output_type": "stream",
     "text": [
      "{88, 5}\n"
     ]
    }
   ],
   "source": [
    "# pentka uzduotis\n",
    "kita_skirtumu_aibe = nauja_aibe.difference(aibe_skaiciu)\n",
    "print(kita_skirtumu_aibe)"
   ]
  },
  {
   "cell_type": "code",
   "execution_count": 163,
   "metadata": {},
   "outputs": [
    {
     "name": "stdout",
     "output_type": "stream",
     "text": [
      "{'7744', '25'}\n"
     ]
    }
   ],
   "source": [
    "# bonus\n",
    "aibe_kvadratu = set()\n",
    "for x in kita_skirtumu_aibe:\n",
    "   aibe_kvadratu.add(str(x**2)) #naudojai update o ne add...\n",
    "print(aibe_kvadratu)\n"
   ]
  },
  {
   "attachments": {},
   "cell_type": "markdown",
   "metadata": {},
   "source": [
    "## funkcijos\n"
   ]
  },
  {
   "cell_type": "code",
   "execution_count": 12,
   "metadata": {},
   "outputs": [
    {
     "name": "stdout",
     "output_type": "stream",
     "text": [
      "97 yra nelyginis skaicius\n",
      "1802 yra lyginis skaicius\n"
     ]
    }
   ],
   "source": [
    "def lyginis_nelyginis(number):\n",
    "    if number % 2 == 0:\n",
    "        print(f'{number} yra lyginis skaicius')\n",
    "    else:\n",
    "        print(f'{number} yra nelyginis skaicius')\n",
    "\n",
    "lyginis_nelyginis(97)\n",
    "lyginis_nelyginis(1802)\n",
    "        "
   ]
  },
  {
   "cell_type": "code",
   "execution_count": 14,
   "metadata": {},
   "outputs": [
    {
     "name": "stdout",
     "output_type": "stream",
     "text": [
      "-10 yra neigiamas skaicius\n",
      "8 yra teigiamas\n",
      "skaicius yra 0\n"
     ]
    }
   ],
   "source": [
    "def ar_teigiamas(number):\n",
    "    if number > 0:\n",
    "        print(f'{number} yra teigiamas')\n",
    "    elif number < 0:\n",
    "        print(f'{number} yra neigiamas skaicius')\n",
    "    elif number == 0:\n",
    "        print(f'skaicius yra 0')\n",
    "\n",
    "ar_teigiamas(-10)\n",
    "ar_teigiamas(8)\n",
    "ar_teigiamas(0)"
   ]
  },
  {
   "cell_type": "code",
   "execution_count": 16,
   "metadata": {},
   "outputs": [
    {
     "name": "stdout",
     "output_type": "stream",
     "text": [
      "10 yra didesnis uz 5\n",
      "10 yra mazesnis uz 12\n",
      "10 yra lygus 10\n"
     ]
    }
   ],
   "source": [
    "def ar_daugiau(number, riba):\n",
    "    if number > riba:\n",
    "        print(f'{number} yra didesnis uz {riba}')\n",
    "    elif number < riba:\n",
    "         print(f'{number} yra mazesnis uz {riba}')\n",
    "    elif number == riba:\n",
    "         print(f'{number} yra lygus {riba}')\n",
    "ar_daugiau(10, 5)\n",
    "ar_daugiau(10, 12)\n",
    "ar_daugiau(10, 10)"
   ]
  },
  {
   "attachments": {},
   "cell_type": "markdown",
   "metadata": {},
   "source": [
    "## funkcija su grazinimais"
   ]
  },
  {
   "cell_type": "code",
   "execution_count": 19,
   "metadata": {},
   "outputs": [
    {
     "name": "stdout",
     "output_type": "stream",
     "text": [
      "['suris', 'pomidorai', 'agurkai']\n"
     ]
    }
   ],
   "source": [
    "#pirma uzduotis\n",
    "def atbulom(sarasas):\n",
    "    return sarasas[::-1]\n",
    "sarasas = ['agurkai', 'pomidorai', 'suris']\n",
    "print(atbulom(sarasas))"
   ]
  },
  {
   "cell_type": "code",
   "execution_count": 32,
   "metadata": {},
   "outputs": [
    {
     "name": "stdout",
     "output_type": "stream",
     "text": [
      "2.9047375096555625\n"
     ]
    }
   ],
   "source": [
    "# antra uzduotis\n",
    "def trikampio_plotas(a, b, c):\n",
    "    s = (a + b + c) / 2\n",
    "    plotas = (s* (s - a) * (s - b) * (s - c)) ** 0.5\n",
    "    return plotas\n",
    "\n",
    "\n",
    "print(trikampio_plotas(4, 3, 2))\n"
   ]
  },
  {
   "cell_type": "code",
   "execution_count": 41,
   "metadata": {},
   "outputs": [
    {
     "ename": "TypeError",
     "evalue": "'builtin_function_or_method' object is not iterable",
     "output_type": "error",
     "traceback": [
      "\u001b[1;31m---------------------------------------------------------------------------\u001b[0m",
      "\u001b[1;31mTypeError\u001b[0m                                 Traceback (most recent call last)",
      "Cell \u001b[1;32mIn[41], line 12\u001b[0m\n\u001b[0;32m     10\u001b[0m sakinys \u001b[39m=\u001b[39m \u001b[39m\"\u001b[39m\u001b[39magurkas pomidoras ant sumusteko yra gerai\u001b[39m\u001b[39m\"\u001b[39m\n\u001b[0;32m     11\u001b[0m sakinio_ilgis \u001b[39m=\u001b[39m  \u001b[39m3\u001b[39m\n\u001b[1;32m---> 12\u001b[0m zodziaiii \u001b[39m=\u001b[39m zodziu_saraso_ilgis(sakinys, sakinio_ilgis)\n\u001b[0;32m     13\u001b[0m \u001b[39mprint\u001b[39m(zodziaiii)\n",
      "Cell \u001b[1;32mIn[41], line 5\u001b[0m, in \u001b[0;36mzodziu_saraso_ilgis\u001b[1;34m(sarasas, ilgis)\u001b[0m\n\u001b[0;32m      3\u001b[0m zodziaiii \u001b[39m=\u001b[39m sarasas\u001b[39m.\u001b[39msplit\n\u001b[0;32m      4\u001b[0m ilgio_zodziai \u001b[39m=\u001b[39m []\n\u001b[1;32m----> 5\u001b[0m \u001b[39mfor\u001b[39;00m zodis \u001b[39min\u001b[39;00m zodziaiii:\n\u001b[0;32m      6\u001b[0m     \u001b[39mif\u001b[39;00m \u001b[39mlen\u001b[39m(zodis) \u001b[39m==\u001b[39m ilgis:\n\u001b[0;32m      7\u001b[0m         ilgio_zodziai\u001b[39m.\u001b[39mappend(zodis)\n",
      "\u001b[1;31mTypeError\u001b[0m: 'builtin_function_or_method' object is not iterable"
     ]
    }
   ],
   "source": [
    "#trecia uzduotis\n",
    "def zodziu_saraso_ilgis()"
   ]
  },
  {
   "cell_type": "code",
   "execution_count": 40,
   "metadata": {},
   "outputs": [
    {
     "name": "stdout",
     "output_type": "stream",
     "text": [
      "['vakaras', 'sekasi?']\n"
     ]
    }
   ],
   "source": [
    "def rinkti_zodzius_pagal_ilgi(sakinys, ilgis):\n",
    "    zodziai = sakinys.split()\n",
    "    ilgio_zodziai = []\n",
    "    for zodis in zodziai:\n",
    "        if len(zodis) == ilgis:\n",
    "            ilgio_zodziai.append(zodis)\n",
    "    return ilgio_zodziai\n",
    "\n",
    "sakinys = \"Labas vakaras , kaip sekasi?\"\n",
    "ilgis = 7\n",
    "zodziai = rinkti_zodzius_pagal_ilgi(sakinys, ilgis)\n",
    "print(zodziai)  # išvestų: ['vakaras', 'sekasi?']"
   ]
  },
  {
   "cell_type": "code",
   "execution_count": 43,
   "metadata": {},
   "outputs": [
    {
     "name": "stdout",
     "output_type": "stream",
     "text": [
      "85\n"
     ]
    }
   ],
   "source": [
    "#ketvirta\n",
    "def did_skaic(skaiciai):\n",
    "    didziausias = skaiciai[0]\n",
    "    for skaicius in skaiciai:\n",
    "        if skaicius > didziausias:\n",
    "            didziausias = skaicius\n",
    "    return didziausias\n",
    "\n",
    "akmuo = [1,4,5,6,8,9,2,10,85,1,5,4,6,5]\n",
    "popierius = did_skaic(akmuo)\n",
    "print(popierius)"
   ]
  },
  {
   "cell_type": "code",
   "execution_count": 49,
   "metadata": {},
   "outputs": [
    {
     "name": "stdout",
     "output_type": "stream",
     "text": [
      "['a', 'a', 'a', 'a', 'a', 'a', 'a']\n"
     ]
    }
   ],
   "source": [
    "def zodziai_is_raides(words, letter):\n",
    "    word_list_letter = []\n",
    "    for word in words:\n",
    "        if word[0] == letter:\n",
    "            word_list_letter.append(word)\n",
    "    return word_list_letter\n",
    "\n",
    "words = 'akmuo' 'yra' 'akmenelis' 'bet' 'vanduo' 'nera' 'akmenukas'\n",
    "letter = 'a'\n",
    "print(zodziai_is_raides(words, letter))\n",
    "\n",
    "        "
   ]
  },
  {
   "cell_type": "code",
   "execution_count": 46,
   "metadata": {},
   "outputs": [
    {
     "name": "stdout",
     "output_type": "stream",
     "text": [
      "['Vakare', 'kaip', 'sekasi']\n"
     ]
    }
   ],
   "source": [
    "def rinkti_lyginio_ilgio_zodzius(tekstas):\n",
    "    zodziai = tekstas.split()\n",
    "    lyginio_ilgio_zodziai = []\n",
    "    for zodis in zodziai:\n",
    "        if len(zodis) % 2 == 0:\n",
    "            lyginio_ilgio_zodziai.append(zodis)\n",
    "    return lyginio_ilgio_zodziai\n",
    "\n",
    "tekstas = \"Labas Vakare , kaip sekasi ?\"\n",
    "lyginio_ilgio_zodziai = rinkti_lyginio_ilgio_zodzius(tekstas)\n",
    "print(lyginio_ilgio_zodziai)  # išvestų: ['Vakare,', 'kaip']"
   ]
  },
  {
   "attachments": {},
   "cell_type": "markdown",
   "metadata": {},
   "source": [
    "## nebutini argumentai\n"
   ]
  },
  {
   "cell_type": "code",
   "execution_count": 51,
   "metadata": {},
   "outputs": [
    {
     "name": "stdout",
     "output_type": "stream",
     "text": [
      "314.0\n"
     ]
    }
   ],
   "source": [
    "# pirma uzduotis\n",
    "def apskritimo_plotas(r, pi=3.14):\n",
    "    S = pi * (r ** 2)\n",
    "    return S\n",
    "\n",
    "print(apskritimo_plotas(10))"
   ]
  },
  {
   "cell_type": "code",
   "execution_count": 53,
   "metadata": {},
   "outputs": [
    {
     "name": "stdout",
     "output_type": "stream",
     "text": [
      "{'keliones atstumas - ': 200, 'kuro sanaudos - ': 14.0, 'keliones islaidos - ': 16.8}\n"
     ]
    }
   ],
   "source": [
    "# antra uzduotis\n",
    "def keliones_informacija(keliones_trukme, greitis, vartojimas=7, kuro_kaina=1.2):\n",
    "    atstumas = keliones_trukme * greitis\n",
    "    kuro_sanaudos = (atstumas * vartojimas) /100\n",
    "    islaidos = kuro_sanaudos * kuro_kaina\n",
    "    kelione = {}\n",
    "    kelione['keliones atstumas - '] = atstumas\n",
    "    kelione['kuro sanaudos - '] = kuro_sanaudos\n",
    "    kelione['keliones islaidos - '] = islaidos\n",
    "    return kelione\n",
    "\n",
    "print(keliones_informacija(2, 100))"
   ]
  },
  {
   "cell_type": "code",
   "execution_count": 54,
   "metadata": {},
   "outputs": [
    {
     "name": "stdout",
     "output_type": "stream",
     "text": [
      "{'atstumas': 200, 'sąnaudos': 14.0, 'išlaidos': 16.8}\n"
     ]
    }
   ],
   "source": [
    "def keliones_informacija(keliones_trukme, greitis, vartojimas=7, kuro_kaina=1.2):\n",
    "    atstumas = keliones_trukme * greitis\n",
    "    sąnaudos = atstumas * vartojimas / 100\n",
    "    išlaidos = sąnaudos * kuro_kaina\n",
    "    \n",
    "    return {\n",
    "        'atstumas': atstumas,\n",
    "        'sąnaudos': sąnaudos,\n",
    "        'išlaidos': išlaidos\n",
    "    }\n",
    "\n",
    "print(keliones_informacija(2, 100))"
   ]
  },
  {
   "attachments": {},
   "cell_type": "markdown",
   "metadata": {},
   "source": [
    "## neriboti argumentai _ argai kwargai"
   ]
  },
  {
   "cell_type": "code",
   "execution_count": 62,
   "metadata": {},
   "outputs": [
    {
     "name": "stdout",
     "output_type": "stream",
     "text": [
      "100\n"
     ]
    }
   ],
   "source": [
    "# pirma uzduotis\n",
    "def max_reiksme(*skaiciai: int):\n",
    "    max_skaicius = skaiciai[0]\n",
    "    for skaicius in skaiciai:\n",
    "        if skaicius > max_skaicius:\n",
    "            max_skaicius = skaicius\n",
    "    return max_skaicius\n",
    "\n",
    "print(max_reiksme(100, 50, 41, 6, 4, 5, 80, 4, 2, 98, 6))\n",
    "\n",
    "            "
   ]
  },
  {
   "cell_type": "code",
   "execution_count": 66,
   "metadata": {},
   "outputs": [
    {
     "name": "stdout",
     "output_type": "stream",
     "text": [
      "{'vardas': 'Tadas', 'amzius': 26, 'miestas': 'Siauliai', 'metai': 2023}\n",
      "{}\n"
     ]
    }
   ],
   "source": [
    "# antra uzduotis\n",
    "def zmogus(**kwargs):\n",
    "    keys = {}\n",
    "    for kwarg in kwargs:\n",
    "        if kwarg in [\"vardas\", \"amzius\", \"miestas\", \"metai\"]:\n",
    "            keys[kwarg] = kwargs[kwarg]\n",
    "    return keys\n",
    "\n",
    "print(zmogus(vardas=\"Tadas\", amzius=26, miestas=\"Siauliai\", metai=2023))\n",
    "print(zmogus(pavadinimas='javascript'))\n"
   ]
  },
  {
   "cell_type": "code",
   "execution_count": 68,
   "metadata": {},
   "outputs": [
    {
     "name": "stdout",
     "output_type": "stream",
     "text": [
      "['as', 'nesuprantu', 'nieko', 'tikriausiai', 'netirkiausiai']\n"
     ]
    }
   ],
   "source": [
    "# trecia uzduotis\n",
    "def argai_i_kwargus(*args, **kwargs):\n",
    "    visi_elementai = list(args)\n",
    "    visi_elementai += list(kwargs.keys())\n",
    "    return visi_elementai\n",
    "\n",
    "print(argai_i_kwargus('as','nesuprantu','nieko', tikriausiai='gal?', netirkiausiai='negal'))\n",
    "\n"
   ]
  },
  {
   "attachments": {},
   "cell_type": "markdown",
   "metadata": {},
   "source": [
    "## local global kintamieji"
   ]
  },
  {
   "cell_type": "code",
   "execution_count": null,
   "metadata": {},
   "outputs": [],
   "source": []
  },
  {
   "attachments": {},
   "cell_type": "markdown",
   "metadata": {},
   "source": [
    "## anoninimes funkcijos / lambda"
   ]
  },
  {
   "cell_type": "code",
   "execution_count": 71,
   "metadata": {},
   "outputs": [
    {
     "name": "stdout",
     "output_type": "stream",
     "text": [
      "[16, 15]\n"
     ]
    }
   ],
   "source": [
    "#pirma uduotis\n",
    "skaiciu_eile = [1, 2, 3, 4, 16, 6, 8, 15, 9]\n",
    "anonimine = list(filter(lambda x: x > 10, skaiciu_eile))\n",
    "print(anonimine)"
   ]
  },
  {
   "cell_type": "code",
   "execution_count": 74,
   "metadata": {},
   "outputs": [
    {
     "name": "stdout",
     "output_type": "stream",
     "text": [
      "7.111111111111111\n"
     ]
    }
   ],
   "source": [
    "anonimine_2 = lambda x: sum(x) / len(x)\n",
    "print(anonimine_2(skaiciu_eile))"
   ]
  },
  {
   "cell_type": "code",
   "execution_count": 77,
   "metadata": {},
   "outputs": [
    {
     "name": "stdout",
     "output_type": "stream",
     "text": [
      "90\n"
     ]
    }
   ],
   "source": [
    "trys_skaiciai = [80, 90, 70]\n",
    "anonimine_3 = lambda x : max(x)\n",
    "print(anonimine_3(trys_skaiciai))"
   ]
  },
  {
   "cell_type": "code",
   "execution_count": 79,
   "metadata": {},
   "outputs": [
    {
     "name": "stdout",
     "output_type": "stream",
     "text": [
      "4568\n"
     ]
    }
   ],
   "source": [
    "max_skaicius = lambda x, y, z: max(x, y, z)\n",
    "print(max_skaicius(10, 80, 4568))"
   ]
  },
  {
   "attachments": {},
   "cell_type": "markdown",
   "metadata": {},
   "source": [
    "## random"
   ]
  },
  {
   "cell_type": "code",
   "execution_count": 81,
   "metadata": {},
   "outputs": [
    {
     "name": "stdout",
     "output_type": "stream",
     "text": [
      "Vienas du trys, keturi penki šeši\n"
     ]
    }
   ],
   "source": [
    "print(\"Vienas\", \"du\", \"trys\", end=', ')\n",
    "print(\"keturi\", \"penki\", \"šeši\")"
   ]
  },
  {
   "cell_type": "code",
   "execution_count": 15,
   "metadata": {},
   "outputs": [
    {
     "name": "stdout",
     "output_type": "stream",
     "text": [
      "aidys\n"
     ]
    }
   ],
   "source": [
    "def missing_char(str, n):\n",
    "    if len(str) >= n >= -1:\n",
    "\n",
    "        return str.replace(str[n], \"\")\n",
    "\n",
    "print(missing_char('gaidys',0))"
   ]
  },
  {
   "cell_type": "code",
   "execution_count": 19,
   "metadata": {},
   "outputs": [],
   "source": [
    "def front_back(str):\n",
    "  if len(str) <= 1:\n",
    "    return str\n",
    "  \n",
    "  mid = str[1:len(str)-1]  # can be written as str[1:-1]\n",
    "  \n",
    "  # last + mid + first\n",
    "  return str[len(str)-1] + mid + str[0]"
   ]
  },
  {
   "attachments": {},
   "cell_type": "markdown",
   "metadata": {},
   "source": [
    "## objektai\n"
   ]
  },
  {
   "cell_type": "code",
   "execution_count": 31,
   "metadata": {},
   "outputs": [
    {
     "name": "stdout",
     "output_type": "stream",
     "text": [
      "Darbuotojas:  Tadas Zupka kordinatorius 500\n",
      "kordinatorius 500\n",
      "kordinatorius 1200\n"
     ]
    }
   ],
   "source": [
    "class Darbuotojas:\n",
    "    def __init__(self, vardas, pavarde, pareigos, atlyginimas=500):\n",
    "        self.vardas = vardas\n",
    "        self.pavarde = pavarde\n",
    "        self.pareigos = pareigos\n",
    "        self.atlyginimas = atlyginimas\n",
    "    \n",
    "    def __str__(self):\n",
    "        return f'{self.vardas} {self.pavarde} {self.pareigos} {self.atlyginimas}'\n",
    "        \n",
    "\n",
    "darbuotojas = Darbuotojas('Tadas', 'Zupka', 'kordinatorius')\n",
    "\n",
    "print('Darbuotojas: ', darbuotojas)\n",
    "print(darbuotojas.pareigos, darbuotojas.atlyginimas)\n",
    "darbuotojas.atlyginimas = 1200\n",
    "print(darbuotojas.pareigos, darbuotojas.atlyginimas)\n"
   ]
  },
  {
   "cell_type": "code",
   "execution_count": 30,
   "metadata": {},
   "outputs": [
    {
     "name": "stdout",
     "output_type": "stream",
     "text": [
      "Vardas = Sirijus amzius = 28 sovris = 2\n",
      "Vardas = Sirijus amzius = 28 sovris = 4\n",
      "Vardas = Sirijus amzius = 28 sovris = 1\n",
      "Vardas = Sirijus amzius = 29 sovris = 1\n"
     ]
    }
   ],
   "source": [
    "class Gyvunas:\n",
    "    def __init__(self, vardas, amzius, svoris):\n",
    "        self.vardas = vardas\n",
    "        self.amzius = amzius\n",
    "        self.svoris = svoris\n",
    "    def __str__(self):\n",
    "        return f'Vardas = {self.vardas} amzius = {self.amzius} sovris = {self.svoris}'\n",
    "    def pasunkejo(self, kiek):\n",
    "        self.svoris += kiek\n",
    "    def palengvejo(self, kiek):\n",
    "        self.svoris -= kiek\n",
    "    def gimtadienis(self):\n",
    "        self.amzius += 1\n",
    "           \n",
    "        \n",
    "gyvunas = Gyvunas('Sirijus', 28, 2)\n",
    "print(gyvunas)\n",
    "gyvunas.pasunkejo(2)\n",
    "print(gyvunas)\n",
    "\n",
    "gyvunas.palengvejo(3)\n",
    "print(gyvunas)\n",
    "\n",
    "gyvunas.gimtadienis()\n",
    "print(gyvunas)    "
   ]
  },
  {
   "attachments": {},
   "cell_type": "markdown",
   "metadata": {},
   "source": [
    "## inkapsuliacija\n"
   ]
  },
  {
   "cell_type": "code",
   "execution_count": 46,
   "metadata": {},
   "outputs": [],
   "source": [
    "class Bank():\n",
    "    def __init__(self, account_nr, owner, balance, pin):\n",
    "        self.account_nr = account_nr\n",
    "        self.owner = owner\n",
    "        self.__balance = balance\n",
    "        self.__pin = pin\n",
    "    \n",
    "    def get_pin(self):\n",
    "        return self.__pin\n",
    "    \n",
    "    def get_balance(self):\n",
    "        return self.__balance\n",
    "    \n",
    "    def withdraw(self, pin, suma):\n",
    "        if pin == self.__pin:\n",
    "            self.__balance -= suma\n",
    "            print(f'{suma} was withdawn, balance {self.__balance}')\n",
    "        else:\n",
    "            print(f'wrong pin, try again')\n",
    "\n",
    "\n",
    "    def __str__(self):\n",
    "        return f'{self.account_nr} ir {self.owner}'\n",
    "\n",
    "            \n",
    "\n"
   ]
  },
  {
   "cell_type": "code",
   "execution_count": 63,
   "metadata": {},
   "outputs": [
    {
     "name": "stdout",
     "output_type": "stream",
     "text": [
      "iban ir Tadas\n",
      "wrong pin, try again\n",
      "3693\n"
     ]
    }
   ],
   "source": [
    "bank = Bank(\"iban\", 'Tadas', 800, 3693)\n",
    "print(bank)\n",
    "bank.withdraw(1693, 300)\n",
    "print(bank.get_pin())"
   ]
  },
  {
   "cell_type": "code",
   "execution_count": 82,
   "metadata": {},
   "outputs": [
    {
     "name": "stdout",
     "output_type": "stream",
     "text": [
      "negalima pakeisti bukles i sdsa\n",
      "patenkinama\n",
      "0\n"
     ]
    }
   ],
   "source": [
    "class Book():\n",
    "    def __init__(self, name, author, condition, pages):\n",
    "        self.__name = name\n",
    "        self.__author = author\n",
    "        self.__condition = condition\n",
    "        self.__pages = pages\n",
    "    \n",
    "    def get_name(self):\n",
    "        return self.__name\n",
    "    def get_author(self):\n",
    "        return self.__author\n",
    "    def get_condition(self):\n",
    "        return self.__condition\n",
    "    def get_pages(self):\n",
    "        return self.__pages\n",
    "\n",
    "    def change_condition(self, condition):\n",
    "        bukle = ('patenkinama', 'prasta', 'atnaujinta', 'sugadinta')\n",
    "        if condition in bukle:\n",
    "            self.__condition = condition\n",
    "        else:\n",
    "            print(f'negalima pakeisti bukles i {condition}')\n",
    "        \n",
    "    def __reduce_pages(self, pages):\n",
    "        self.__pages -= pages\n",
    "    \n",
    "    def rip_pages(self, pages):\n",
    "        if abs(pages) <= self.__pages:\n",
    "            self.__reduce_pages(self.__pages - abs(pages))\n",
    "        else:\n",
    "            self.__pages = 0\n",
    "\n",
    "\n",
    "\n",
    "\n",
    "\n",
    "book = Book('lotr','tolkien','patenkinama', 400)\n",
    "book.change_condition('sdsa')\n",
    "print(book.get_condition())\n",
    "book.rip_pages(500)\n",
    "print(book.get_pages())"
   ]
  },
  {
   "cell_type": "code",
   "execution_count": 86,
   "metadata": {},
   "outputs": [
    {
     "data": {
      "text/plain": [
       "'rida padidejo 500 nauja rida 400500'"
      ]
     },
     "execution_count": 86,
     "metadata": {},
     "output_type": "execute_result"
    }
   ],
   "source": [
    "class Automobilis():\n",
    "    def __init__(self, marke, modelis, spalva, metai, rida):\n",
    "        self.marke = marke\n",
    "        self.modelis = modelis\n",
    "        self.spalva = spalva\n",
    "        self.metai = metai\n",
    "        self.__rida = rida\n",
    "\n",
    "    def get__rida(self):\n",
    "        return self.__rida\n",
    "    \n",
    "    def ridos_didinimas(self, km):\n",
    "        self.__rida += abs(km)\n",
    "        return f'rida padidejo {km} nauja rida {self.__rida}'\n",
    "    \n",
    "auto = Automobilis('audi', 'a3', 'sidabrine', 1997, 400000)\n",
    "auto.ridos_didinimas(500)\n",
    "        "
   ]
  },
  {
   "attachments": {},
   "cell_type": "markdown",
   "metadata": {},
   "source": [
    "## paveldejimas / inheritance\n"
   ]
  },
  {
   "cell_type": "code",
   "execution_count": 17,
   "metadata": {},
   "outputs": [
    {
     "name": "stdout",
     "output_type": "stream",
     "text": [
      "Rikis yra 5 metu, jo kailio spalva - zalias\n",
      "Sirijus yra 1 metu, jo kailio spalva - rainas, jis yra kate\n",
      "Charlis yra 6 metu, jo kailio spalva - rudas, jis yra Suo\n",
      "Charlis  suloja\n",
      "Sirijus  sumiauksi\n",
      "Charlis  greitai nubega\n",
      "Sirijus  pajuda mieguista\n",
      "Rikis  guliu ramiai\n",
      "True\n",
      "True\n",
      "True\n",
      "False\n",
      "False\n",
      "False\n",
      "False\n"
     ]
    }
   ],
   "source": [
    "class Gyvunas:\n",
    "    def __init__(self, vardas, amzius, kailio_spalva):\n",
    "        self.vardas = vardas\n",
    "        self.amzius = amzius\n",
    "        self.kailio_spalva = kailio_spalva\n",
    "\n",
    "    def balsas(self):\n",
    "        pass\n",
    "\n",
    "    def judeti(self):\n",
    "        print(self.vardas, ' guliu ramiai')    \n",
    "\n",
    "    \n",
    "    def __str__(self):\n",
    "       return f'{self.vardas} yra {self.amzius} metu, jo kailio spalva - {self.kailio_spalva}' \n",
    "        \n",
    "gyvunas = Gyvunas('Rikis', 5, 'zalias')\n",
    "class Kate(Gyvunas):\n",
    "    karalyste = \"kate\" \n",
    "    def __str__(self):\n",
    "       return f'{self.vardas} yra {self.amzius} metu, jo kailio spalva - {self.kailio_spalva}, jis yra {self.karalyste}' \n",
    "    def judeti(self):\n",
    "        print(self.vardas, \" pajuda mieguista\")\n",
    "    def balsas(self):\n",
    "        print(self.vardas, \" sumiauksi\")\n",
    "\n",
    "class Suo(Gyvunas):\n",
    "    karalyste = \"Suo\"\n",
    "    def __str__(self):\n",
    "       return f'{self.vardas} yra {self.amzius} metu, jo kailio spalva - {self.kailio_spalva}, jis yra {self.karalyste}' \n",
    "    \n",
    "    def balsas(self):\n",
    "       print(self.vardas, \" suloja\")\n",
    "\n",
    "    def judeti(self):\n",
    "        print(self.vardas, ' greitai nubega')\n",
    "\n",
    "kate = Kate('Sirijus', 1, 'rainas')\n",
    "suo = Suo('Charlis', 6, 'rudas')\n",
    "\n",
    "print(gyvunas)\n",
    "print(kate)\n",
    "print(suo)\n",
    "suo.balsas()\n",
    "kate.balsas()\n",
    "suo.judeti()\n",
    "kate.judeti()\n",
    "gyvunas.judeti()\n",
    "gyvunas.balsas()\n",
    "print(isinstance(kate, Gyvunas))\n",
    "print(isinstance(suo, Gyvunas))\n",
    "print(isinstance(gyvunas, Gyvunas))\n",
    "print(isinstance(suo, Kate))\n",
    "print(isinstance(kate, Suo))\n",
    "print(isinstance(gyvunas, Suo))\n",
    "print(isinstance(gyvunas, Kate))"
   ]
  },
  {
   "cell_type": "code",
   "execution_count": null,
   "metadata": {},
   "outputs": [],
   "source": []
  },
  {
   "attachments": {},
   "cell_type": "markdown",
   "metadata": {},
   "source": [
    "## Abstraction"
   ]
  },
  {
   "cell_type": "code",
   "execution_count": 79,
   "metadata": {},
   "outputs": [],
   "source": [
    "class Baseinas:\n",
    "\n",
    "    def __init__(self, talpa, esamas_kiekis):\n",
    "        self.__talpa = talpa\n",
    "        self.__esamas_kiekis = esamas_kiekis\n",
    "    \n",
    "    def __keisti_talpa(self, kiekis):\n",
    "        self.__esamas_kiekis += kiekis\n",
    "    \n",
    "    def pilimas(self, kiekis):\n",
    "        if self.__esamas_kiekis + kiekis <= self.__talpa:\n",
    "            self.__keisti_talpa(kiekis)\n",
    "            print(f'ipilta {kiekis} vandens, dabar yra {self.__esamas_kiekis} vandens')\n",
    "        else:\n",
    "            print(f'{kiekis} ipilti vandens negalima nes virsytu talpa')\n",
    "\n",
    "    def isleidimas(self, kiekis):\n",
    "        if self.__esamas_kiekis - kiekis >= 0:\n",
    "            self.__keisti_talpa(-kiekis)\n",
    "            print(f'islipta {kiekis} vandens, dabar yra {self.__esamas_kiekis} vandens')\n",
    "        else:\n",
    "            print(f'{kiekis} ispilti negalima nes nera baseine tiek vandens')\n",
    "    \n",
    "    def get_esamas_kiekis(self):\n",
    "        return self.__esamas_kiekis\n",
    "   \n",
    "    def get_talpa(self):\n",
    "        return self.__talpa"
   ]
  },
  {
   "cell_type": "code",
   "execution_count": 82,
   "metadata": {},
   "outputs": [],
   "source": [
    "baseinas = Baseinas(2000, 1000)\n"
   ]
  },
  {
   "cell_type": "code",
   "execution_count": 123,
   "metadata": {},
   "outputs": [
    {
     "name": "stdout",
     "output_type": "stream",
     "text": [
      "500 ipilti vandens negalima nes virsytu talpa\n",
      "islipta 50 vandens, dabar yra 1700 vandens\n"
     ]
    }
   ],
   "source": [
    "baseinas.pilimas(500)\n",
    "baseinas.isleidimas(50)"
   ]
  },
  {
   "cell_type": "code",
   "execution_count": 126,
   "metadata": {},
   "outputs": [
    {
     "name": "stdout",
     "output_type": "stream",
     "text": [
      "Baseino talpa: 500, dabartinis kiekis: 200\n",
      "Baseino kiekis: 500\n",
      "Sumazintas kiekis: 0\n"
     ]
    }
   ],
   "source": [
    "# jurates optimal sprendimas\n",
    "class Baseinasss():\n",
    "    def __init__(self, talpa, dabartinis_kiekis):\n",
    "        self.talpa = talpa\n",
    "        self.__dabartinis_kiekis = dabartinis_kiekis\n",
    "\n",
    "    def __keisti_kieki(self, naujas_kiekis):\n",
    "        if naujas_kiekis <= self.talpa and naujas_kiekis >= 0:\n",
    "            self.__dabartinis_kiekis = naujas_kiekis\n",
    "        else:\n",
    "            print('Kiekis nepakeistas')\n",
    "\n",
    "    def didinti_kieki(self, keiciamas_kiekis):\n",
    "        self.__keisti_kieki(self.__dabartinis_kiekis + abs(keiciamas_kiekis))\n",
    "        return self.__dabartinis_kiekis\n",
    "\n",
    "    def mazinti_kieki(self, keiciamas_kiekis):\n",
    "        self.__keisti_kieki(self.__dabartinis_kiekis - abs(keiciamas_kiekis))\n",
    "        return self.__dabartinis_kiekis\n",
    "\n",
    "    def gauti_dabartini_kieki(self):\n",
    "        return self.__dabartinis_kiekis\n",
    "\n",
    "\n",
    "vichy = Baseinasss(500, 200)\n",
    "print(f\"Baseino talpa: {vichy.talpa}, dabartinis kiekis: {vichy.gauti_dabartini_kieki()}\")\n",
    "print(f\"Baseino kiekis: {vichy.didinti_kieki(300)}\")\n",
    "print(f\"Sumazintas kiekis: {vichy.mazinti_kieki(500)}\")"
   ]
  },
  {
   "attachments": {},
   "cell_type": "markdown",
   "metadata": {},
   "source": [
    "## Polimrfizmas / polymorphing"
   ]
  },
  {
   "cell_type": "code",
   "execution_count": 171,
   "metadata": {},
   "outputs": [
    {
     "name": "stdout",
     "output_type": "stream",
     "text": [
      "Darbuotojas: Jonas Jonaitis. Atlyginimas: 800 euru\n",
      "Darbuotojas: Petras Petraitis. Atlyginimas: 1200 euru\n",
      "Darbuotojas: Juozas Juozaitis. Atlyginimas: 900 euru\n",
      "Darbuotojas: Antanas Antanaitis. Atlyginimas: 2000 euru\n",
      "Premija: 500 euru\n"
     ]
    }
   ],
   "source": [
    "class Darbininkas:\n",
    "    def __init__(self, vardas, pavarde, atlyginimas=1500):\n",
    "        self.vardas = vardas\n",
    "        self.pavarde = pavarde\n",
    "        self.atlyginimas = atlyginimas\n",
    "    \n",
    "    def info(self):\n",
    "        print( f'Darbuotojas: {self.vardas} {self.pavarde}. Atlyginimas: {self.atlyginimas} euru' )\n",
    "\n",
    "class Administratorius(Darbininkas):\n",
    "    pass\n",
    "\n",
    "class Vadovas(Darbininkas):\n",
    "    def __init__(self, vardas, pavarde, atlyginimas=2000, premija=0):\n",
    "        super().__init__(vardas, pavarde, atlyginimas)\n",
    "        self.premija = premija\n",
    "       \n",
    "\n",
    "    def info(self):\n",
    "        super().info()\n",
    "        print(f'Premija: {self.premija} euru')\n",
    "\n",
    "\n",
    "# # darbininkas = Darbininkas('Tadas', 'Zupka', 1200)\n",
    "# # admin = Administratorius('Jonas', 'Jonauskas', 1500)\n",
    "# # vadovas = Vadovas('Petras', 'Petrauskas', 8000, 'premija123')\n",
    "# print(darbininkas)\n",
    "# print(admin)\n",
    "\n",
    "darbininkas1 = Darbininkas('Jonas', 'Jonaitis', 800)\n",
    "darbininkas2 = Darbininkas('Petras', 'Petraitis', 1200)\n",
    "darbininkas3 = Administratorius('Juozas', 'Juozaitis', 900)\n",
    "vadovas1 = Vadovas('Antanas', 'Antanaitis', premija=500)\n",
    "\n",
    "darbininkai = [darbininkas1, darbininkas2, darbininkas3, vadovas1]\n",
    "\n",
    "for darbininkas in darbininkai:\n",
    "    darbininkas.info()\n"
   ]
  },
  {
   "cell_type": "code",
   "execution_count": 167,
   "metadata": {},
   "outputs": [
    {
     "name": "stdout",
     "output_type": "stream",
     "text": [
      "---\n",
      "Jonas Jonaitis, atlyginimas: 1000 €\n",
      "---\n",
      "Petras Petraitis, atlyginimas: 1200 €\n",
      "---\n",
      "Juozas Juozaitis, atlyginimas: 900 €\n",
      "---\n",
      "Antanas Antanaitis, atlyginimas: 2000 €\n",
      "Premija: 500 €\n"
     ]
    }
   ],
   "source": [
    "class Darbuotojas:\n",
    "    def __init__(self, vardas, pavarde, atlyginimas=1000):\n",
    "        self.vardas = vardas\n",
    "        self.pavarde = pavarde\n",
    "        self.atlyginimas = atlyginimas\n",
    "\n",
    "    def info(self):\n",
    "        print(f'---\\n{self.vardas} {self.pavarde}, atlyginimas: {self.atlyginimas} €')\n",
    "\n",
    "\n",
    "class Administratorius(Darbuotojas):\n",
    "    pass\n",
    "\n",
    "\n",
    "class Vadovas(Darbuotojas):\n",
    "    def __init__(self, vardas, pavarde, atlyginimas=2000, premija=0):\n",
    "        super().__init__(vardas, pavarde, atlyginimas)\n",
    "        self.premija = premija\n",
    "\n",
    "    def info(self):\n",
    "        super().info()\n",
    "        print(f'Premija: {self.premija} €')\n",
    "\n",
    "\n",
    "darbuotojas1 = Darbuotojas('Jonas', 'Jonaitis')\n",
    "darbuotojas2 = Darbuotojas('Petras', 'Petraitis', 1200)\n",
    "darbuotojas3 = Administratorius('Juozas', 'Juozaitis', 900)\n",
    "vadovas1 = Vadovas('Antanas', 'Antanaitis', premija=500)\n",
    "\n",
    "darbuotojai = [darbuotojas1, darbuotojas2, darbuotojas3, vadovas1]\n",
    "\n",
    "for darbuotojas in darbuotojai:\n",
    "    darbuotojas.info()"
   ]
  },
  {
   "attachments": {},
   "cell_type": "markdown",
   "metadata": {},
   "source": [
    "## Dokumentavimas ir Anotacijos"
   ]
  },
  {
   "cell_type": "code",
   "execution_count": null,
   "metadata": {},
   "outputs": [],
   "source": []
  },
  {
   "cell_type": "code",
   "execution_count": null,
   "metadata": {},
   "outputs": [],
   "source": [
    "piplist"
   ]
  }
 ],
 "metadata": {
  "kernelspec": {
   "display_name": ".venv",
   "language": "python",
   "name": "python3"
  },
  "language_info": {
   "codemirror_mode": {
    "name": "ipython",
    "version": 3
   },
   "file_extension": ".py",
   "mimetype": "text/x-python",
   "name": "python",
   "nbconvert_exporter": "python",
   "pygments_lexer": "ipython3",
   "version": "3.11.3"
  },
  "orig_nbformat": 4
 },
 "nbformat": 4,
 "nbformat_minor": 2
}
