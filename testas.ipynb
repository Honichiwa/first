{
 "cells": [
  {
   "attachments": {},
   "cell_type": "markdown",
   "metadata": {},
   "source": [
    "## Sarasai"
   ]
  },
  {
   "cell_type": "code",
   "execution_count": 65,
   "metadata": {},
   "outputs": [
    {
     "name": "stdout",
     "output_type": "stream",
     "text": [
      "[2, 6, 8]\n"
     ]
    }
   ],
   "source": [
    "skaiciai = [2, 6, 8]\n",
    "print(skaiciai)"
   ]
  },
  {
   "cell_type": "code",
   "execution_count": 66,
   "metadata": {},
   "outputs": [
    {
     "name": "stdout",
     "output_type": "stream",
     "text": [
      "[6, 8]\n"
     ]
    }
   ],
   "source": [
    "skaiciai.remove(2)\n",
    "print(skaiciai)\n"
   ]
  },
  {
   "cell_type": "code",
   "execution_count": 67,
   "metadata": {},
   "outputs": [
    {
     "name": "stdout",
     "output_type": "stream",
     "text": [
      "['pasta', 'chicken', 'avocado', 'beef', 'tomato']\n"
     ]
    }
   ],
   "source": [
    "# pirma uzduotis\n",
    "food_list = [\"pasta\",\n",
    " \"chicken\", \"avocado\", 'beef', 'tomato']\n",
    "print(food_list)"
   ]
  },
  {
   "cell_type": "code",
   "execution_count": 68,
   "metadata": {},
   "outputs": [
    {
     "name": "stdout",
     "output_type": "stream",
     "text": [
      "pasta\n",
      "avocado\n",
      "tomato\n"
     ]
    }
   ],
   "source": [
    "# antra uzduotis\n",
    "print(food_list[0])\n",
    "print(food_list[2])\n",
    "print(food_list[-1])"
   ]
  },
  {
   "cell_type": "code",
   "execution_count": 69,
   "metadata": {},
   "outputs": [
    {
     "name": "stdout",
     "output_type": "stream",
     "text": [
      "['pasta', 'chicken']\n",
      "['beef', 'tomato']\n",
      "['chicken', 'avocado', 'beef']\n",
      "['pasta', 'avocado', 'tomato']\n"
     ]
    }
   ],
   "source": [
    "# trecia uzduotis\n",
    "print(food_list[:2])\n",
    "print(food_list[-2:])\n",
    "print(food_list[1:4])\n",
    "print(food_list[::2])"
   ]
  },
  {
   "cell_type": "code",
   "execution_count": 70,
   "metadata": {},
   "outputs": [
    {
     "name": "stdout",
     "output_type": "stream",
     "text": [
      "['pasta', 'chicken', 'avocado', 'beef', 'tomato', 'paprika']\n",
      "['pasta', 'chicken', 'apple', 'avocado', 'beef', 'tomato', 'paprika']\n",
      "['pasta', 'candy', 'apple', 'avocado', 'beef', 'tomato', 'paprika']\n",
      "['candy', 'apple', 'avocado', 'beef', 'tomato', 'paprika']\n",
      "['candy', 'apple', 'beef', 'tomato', 'paprika']\n",
      "2\n",
      "['paprika', 'tomato', 'beef', 'apple', 'candy']\n"
     ]
    }
   ],
   "source": [
    "# ketvirta uzduotis\n",
    "food_list.append(\"paprika\")\n",
    "print(food_list)\n",
    "food_list.insert(2,\"apple\")\n",
    "print(food_list)\n",
    "food_list[1] = 'candy'\n",
    "print(food_list)\n",
    "food_list.pop(0)\n",
    "print(food_list)\n",
    "food_list.pop(2)\n",
    "print(food_list)\n",
    "print(food_list.index('beef'))\n",
    "food_list.reverse()\n",
    "print(food_list)"
   ]
  },
  {
   "cell_type": "code",
   "execution_count": 71,
   "metadata": {},
   "outputs": [
    {
     "name": "stdout",
     "output_type": "stream",
     "text": [
      "5\n"
     ]
    }
   ],
   "source": [
    "# 5 uzduotis\n",
    "print(len(food_list))"
   ]
  },
  {
   "cell_type": "code",
   "execution_count": 72,
   "metadata": {},
   "outputs": [
    {
     "name": "stdout",
     "output_type": "stream",
     "text": [
      "False\n",
      "True\n",
      "True\n",
      "False\n"
     ]
    }
   ],
   "source": [
    "print('chicken' in food_list)\n",
    "print('beef' in food_list)\n",
    "print('tomato' in food_list)\n",
    "print('chips' in food_list)"
   ]
  },
  {
   "attachments": {},
   "cell_type": "markdown",
   "metadata": {},
   "source": [
    "## Zodynai"
   ]
  },
  {
   "cell_type": "code",
   "execution_count": 73,
   "metadata": {},
   "outputs": [
    {
     "name": "stdout",
     "output_type": "stream",
     "text": [
      "{'sirijus': '1', 'pinkis': '12', 'Rikis': '5'}\n"
     ]
    }
   ],
   "source": [
    "# pirma uzduotis\n",
    "zodynas = {'sirijus': '1', 'pinkis': '12', 'Rikis':'5'}\n",
    "print(zodynas)"
   ]
  },
  {
   "cell_type": "code",
   "execution_count": 81,
   "metadata": {},
   "outputs": [
    {
     "name": "stdout",
     "output_type": "stream",
     "text": [
      "12\n"
     ]
    }
   ],
   "source": [
    "# antra uzduotis\n",
    "print(zodynas['pinkis'])"
   ]
  },
  {
   "cell_type": "code",
   "execution_count": 85,
   "metadata": {},
   "outputs": [],
   "source": [
    "# trecia uzduotis\n",
    "zodynas['kikis'] = 4"
   ]
  },
  {
   "cell_type": "code",
   "execution_count": 88,
   "metadata": {},
   "outputs": [
    {
     "name": "stdout",
     "output_type": "stream",
     "text": [
      "{'sirijus': 0, 'pinkis': '12', 'Rikis': '5', 'kikis': 4}\n"
     ]
    }
   ],
   "source": [
    "# ketvirta uzduotis\n",
    "zodynas['sirijus'] = 0\n",
    "print(zodynas)"
   ]
  },
  {
   "cell_type": "code",
   "execution_count": 89,
   "metadata": {},
   "outputs": [
    {
     "name": "stdout",
     "output_type": "stream",
     "text": [
      "{'sirijus': 0, 'pinkis': '12', 'kikis': 4}\n"
     ]
    }
   ],
   "source": [
    "# penkta uzduotis\n",
    "del zodynas['Rikis']\n",
    "print(zodynas)"
   ]
  },
  {
   "cell_type": "code",
   "execution_count": 91,
   "metadata": {},
   "outputs": [
    {
     "name": "stdout",
     "output_type": "stream",
     "text": [
      "dict_keys(['sirijus', 'pinkis', 'kikis'])\n"
     ]
    }
   ],
   "source": [
    "# sesta uzduotis\n",
    "print(zodynas.keys())"
   ]
  },
  {
   "cell_type": "code",
   "execution_count": 92,
   "metadata": {},
   "outputs": [
    {
     "name": "stdout",
     "output_type": "stream",
     "text": [
      "dict_values([0, '12', 4])\n"
     ]
    }
   ],
   "source": [
    "print(zodynas.values())"
   ]
  },
  {
   "cell_type": "code",
   "execution_count": 101,
   "metadata": {},
   "outputs": [
    {
     "name": "stdout",
     "output_type": "stream",
     "text": [
      "[('sirijus', 0), ('pinkis', '12'), ('kikis', 4)]\n"
     ]
    }
   ],
   "source": [
    "print(list(zodynas.items()))"
   ]
  },
  {
   "cell_type": "code",
   "execution_count": 103,
   "metadata": {},
   "outputs": [
    {
     "name": "stdout",
     "output_type": "stream",
     "text": [
      "12\n"
     ]
    }
   ],
   "source": [
    "print(zodynas.get('pinkis'))"
   ]
  },
  {
   "cell_type": "code",
   "execution_count": 105,
   "metadata": {},
   "outputs": [
    {
     "name": "stdout",
     "output_type": "stream",
     "text": [
      "{'tu': 'you', 'as': 'me', 'jis': 'him'}\n"
     ]
    }
   ],
   "source": [
    "zodynas_del = {'tu': 'you', 'as': 'me', 'jis':'him'}\n",
    "print(zodynas_del)"
   ]
  },
  {
   "cell_type": "code",
   "execution_count": 108,
   "metadata": {},
   "outputs": [
    {
     "name": "stdout",
     "output_type": "stream",
     "text": [
      "{}\n"
     ]
    }
   ],
   "source": [
    "zodynas_del.clear()\n",
    "print(zodynas_del)"
   ]
  },
  {
   "attachments": {},
   "cell_type": "markdown",
   "metadata": {},
   "source": [
    "## ciklai\n"
   ]
  },
  {
   "cell_type": "code",
   "execution_count": null,
   "metadata": {},
   "outputs": [],
   "source": []
  }
 ],
 "metadata": {
  "kernelspec": {
   "display_name": ".venv",
   "language": "python",
   "name": "python3"
  },
  "language_info": {
   "codemirror_mode": {
    "name": "ipython",
    "version": 3
   },
   "file_extension": ".py",
   "mimetype": "text/x-python",
   "name": "python",
   "nbconvert_exporter": "python",
   "pygments_lexer": "ipython3",
   "version": "3.11.3"
  },
  "orig_nbformat": 4
 },
 "nbformat": 4,
 "nbformat_minor": 2
}
